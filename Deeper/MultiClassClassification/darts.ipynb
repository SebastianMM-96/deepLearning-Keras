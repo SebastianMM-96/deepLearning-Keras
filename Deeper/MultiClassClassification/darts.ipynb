{
 "metadata": {
  "language_info": {
   "codemirror_mode": {
    "name": "ipython",
    "version": 3
   },
   "file_extension": ".py",
   "mimetype": "text/x-python",
   "name": "python",
   "nbconvert_exporter": "python",
   "pygments_lexer": "ipython3",
   "version": "3.7.7-final"
  },
  "orig_nbformat": 2,
  "kernelspec": {
   "name": "python3",
   "display_name": "Python 3",
   "language": "python"
  }
 },
 "nbformat": 4,
 "nbformat_minor": 2,
 "cells": [
  {
   "source": [
    "# Darts"
   ],
   "cell_type": "markdown",
   "metadata": {}
  },
  {
   "cell_type": "code",
   "execution_count": 1,
   "metadata": {},
   "outputs": [],
   "source": [
    "from keras.models import Sequential\n",
    "from keras.layers import Dense"
   ]
  },
  {
   "cell_type": "code",
   "execution_count": 2,
   "metadata": {},
   "outputs": [],
   "source": [
    "# Instantiate a sequential model\n",
    "model = Sequential()"
   ]
  },
  {
   "cell_type": "code",
   "execution_count": 3,
   "metadata": {},
   "outputs": [],
   "source": [
    "# Add 3 dense layers of 128, 64 and 32 neurons each\n",
    "model.add(Dense(128, input_shape=(2,), activation='relu'))\n",
    "model.add(Dense(64, activation='relu'))\n",
    "model.add(Dense(32, activation='relu'))"
   ]
  },
  {
   "cell_type": "code",
   "execution_count": 4,
   "metadata": {},
   "outputs": [],
   "source": [
    "# Add a dense layer with as many neurons as competitors\n",
    "model.add(Dense(4, activation='softmax'))"
   ]
  },
  {
   "cell_type": "code",
   "execution_count": 5,
   "metadata": {},
   "outputs": [],
   "source": [
    "# Compile your model using categorical_crossentropy loss\n",
    "model.compile(loss='categorical_crossentropy',\n",
    "              optimizer='adam',\n",
    "              metrics=['accuracy'])"
   ]
  },
  {
   "source": [
    "## Prepare your dataset"
   ],
   "cell_type": "markdown",
   "metadata": {}
  },
  {
   "cell_type": "code",
   "execution_count": 6,
   "metadata": {},
   "outputs": [],
   "source": [
    "import pandas as pd"
   ]
  },
  {
   "cell_type": "code",
   "execution_count": 7,
   "metadata": {},
   "outputs": [],
   "source": [
    "darts = pd.read_csv('darts.csv')"
   ]
  },
  {
   "cell_type": "code",
   "execution_count": 8,
   "metadata": {},
   "outputs": [],
   "source": [
    "# Transform into a categorical variable\n",
    "darts.competitor = pd.Categorical(darts.competitor)"
   ]
  },
  {
   "cell_type": "code",
   "execution_count": 9,
   "metadata": {},
   "outputs": [],
   "source": [
    "# Assign a number to each category (label encoding)\n",
    "darts.competitor = darts.competitor.cat.codes"
   ]
  },
  {
   "cell_type": "code",
   "execution_count": 10,
   "metadata": {},
   "outputs": [
    {
     "output_type": "stream",
     "name": "stdout",
     "text": [
      "Label encoded competitors: \n 0    2\n1    3\n2    1\n3    0\n4    2\nName: competitor, dtype: int8\n"
     ]
    }
   ],
   "source": [
    "# Print the label encoded competitors\n",
    "print('Label encoded competitors: \\n',darts.competitor.head())"
   ]
  },
  {
   "cell_type": "code",
   "execution_count": 11,
   "metadata": {},
   "outputs": [],
   "source": [
    "from keras.utils import to_categorical"
   ]
  },
  {
   "cell_type": "code",
   "execution_count": 12,
   "metadata": {},
   "outputs": [],
   "source": [
    "coordinates = darts.drop(['competitor'], axis=1)\n",
    "# Use to_categorical on your labels\n",
    "competitors = to_categorical(darts.competitor)"
   ]
  },
  {
   "cell_type": "code",
   "execution_count": 13,
   "metadata": {},
   "outputs": [
    {
     "output_type": "stream",
     "name": "stdout",
     "text": [
      "One-hot encoded competitors: \n [[0. 0. 1. 0.]\n [0. 0. 0. 1.]\n [0. 1. 0. 0.]\n ...\n [0. 1. 0. 0.]\n [0. 1. 0. 0.]\n [0. 0. 0. 1.]]\n"
     ]
    }
   ],
   "source": [
    "print('One-hot encoded competitors: \\n',competitors)"
   ]
  },
  {
   "source": [
    "## Training on dart throwers"
   ],
   "cell_type": "markdown",
   "metadata": {}
  },
  {
   "cell_type": "code",
   "execution_count": 14,
   "metadata": {},
   "outputs": [],
   "source": [
    "from sklearn.model_selection import train_test_split"
   ]
  },
  {
   "cell_type": "code",
   "execution_count": 19,
   "metadata": {},
   "outputs": [],
   "source": [
    "coord_train, coord_test, competitors_train, competitors_test = train_test_split(coordinates, competitors, test_size=0.25, stratify=competitors)"
   ]
  },
  {
   "cell_type": "code",
   "execution_count": 20,
   "metadata": {
    "tags": [
     "outputPrepend"
    ]
   },
   "outputs": [
    {
     "output_type": "stream",
     "name": "stdout",
     "text": [
      "och 2/200\n",
      "19/19 [==============================] - 0s 6ms/step - loss: 1.3497 - accuracy: 0.2433\n",
      "Epoch 3/200\n",
      "19/19 [==============================] - 0s 5ms/step - loss: 1.3120 - accuracy: 0.3317\n",
      "Epoch 4/200\n",
      "19/19 [==============================] - 0s 5ms/step - loss: 1.2539 - accuracy: 0.4150\n",
      "Epoch 5/200\n",
      "19/19 [==============================] - 0s 5ms/step - loss: 1.1695 - accuracy: 0.4983\n",
      "Epoch 6/200\n",
      "19/19 [==============================] - 0s 7ms/step - loss: 1.0713 - accuracy: 0.5333\n",
      "Epoch 7/200\n",
      "19/19 [==============================] - 0s 5ms/step - loss: 0.9837 - accuracy: 0.5467\n",
      "Epoch 8/200\n",
      "19/19 [==============================] - 0s 5ms/step - loss: 0.9103 - accuracy: 0.5700\n",
      "Epoch 9/200\n",
      "19/19 [==============================] - 0s 7ms/step - loss: 0.8714 - accuracy: 0.6267\n",
      "Epoch 10/200\n",
      "19/19 [==============================] - 0s 6ms/step - loss: 0.8401 - accuracy: 0.6483\n",
      "Epoch 11/200\n",
      "19/19 [==============================] - 0s 5ms/step - loss: 0.8240 - accuracy: 0.6500\n",
      "Epoch 12/200\n",
      "19/19 [==============================] - 0s 6ms/step - loss: 0.8093 - accuracy: 0.6917\n",
      "Epoch 13/200\n",
      "19/19 [==============================] - 0s 6ms/step - loss: 0.7885 - accuracy: 0.6617\n",
      "Epoch 14/200\n",
      "19/19 [==============================] - 0s 5ms/step - loss: 0.7754 - accuracy: 0.7083\n",
      "Epoch 15/200\n",
      "19/19 [==============================] - 0s 5ms/step - loss: 0.7707 - accuracy: 0.7083\n",
      "Epoch 16/200\n",
      "19/19 [==============================] - 0s 5ms/step - loss: 0.7702 - accuracy: 0.6967\n",
      "Epoch 17/200\n",
      "19/19 [==============================] - 0s 4ms/step - loss: 0.7448 - accuracy: 0.7233\n",
      "Epoch 18/200\n",
      "19/19 [==============================] - 0s 5ms/step - loss: 0.7328 - accuracy: 0.7317\n",
      "Epoch 19/200\n",
      "19/19 [==============================] - 0s 6ms/step - loss: 0.7196 - accuracy: 0.7500\n",
      "Epoch 20/200\n",
      "19/19 [==============================] - 0s 5ms/step - loss: 0.7232 - accuracy: 0.7350\n",
      "Epoch 21/200\n",
      "19/19 [==============================] - 0s 6ms/step - loss: 0.7187 - accuracy: 0.7350\n",
      "Epoch 22/200\n",
      "19/19 [==============================] - 0s 7ms/step - loss: 0.7122 - accuracy: 0.7383\n",
      "Epoch 23/200\n",
      "19/19 [==============================] - 0s 5ms/step - loss: 0.6963 - accuracy: 0.7683\n",
      "Epoch 24/200\n",
      "19/19 [==============================] - 0s 6ms/step - loss: 0.7047 - accuracy: 0.7517\n",
      "Epoch 25/200\n",
      "19/19 [==============================] - 0s 6ms/step - loss: 0.6897 - accuracy: 0.7717\n",
      "Epoch 26/200\n",
      "19/19 [==============================] - 0s 6ms/step - loss: 0.6873 - accuracy: 0.7650\n",
      "Epoch 27/200\n",
      "19/19 [==============================] - 0s 8ms/step - loss: 0.6859 - accuracy: 0.7533\n",
      "Epoch 28/200\n",
      "19/19 [==============================] - 0s 6ms/step - loss: 0.6883 - accuracy: 0.7450\n",
      "Epoch 29/200\n",
      "19/19 [==============================] - 0s 7ms/step - loss: 0.6724 - accuracy: 0.7700\n",
      "Epoch 30/200\n",
      "19/19 [==============================] - 0s 6ms/step - loss: 0.6879 - accuracy: 0.7633\n",
      "Epoch 31/200\n",
      "19/19 [==============================] - 0s 7ms/step - loss: 0.6823 - accuracy: 0.7567\n",
      "Epoch 32/200\n",
      "19/19 [==============================] - 0s 6ms/step - loss: 0.6624 - accuracy: 0.7817\n",
      "Epoch 33/200\n",
      "19/19 [==============================] - 0s 5ms/step - loss: 0.6576 - accuracy: 0.7750\n",
      "Epoch 34/200\n",
      "19/19 [==============================] - 0s 5ms/step - loss: 0.6562 - accuracy: 0.7783\n",
      "Epoch 35/200\n",
      "19/19 [==============================] - 0s 8ms/step - loss: 0.6483 - accuracy: 0.7817\n",
      "Epoch 36/200\n",
      "19/19 [==============================] - 0s 5ms/step - loss: 0.6548 - accuracy: 0.7867\n",
      "Epoch 37/200\n",
      "19/19 [==============================] - 0s 8ms/step - loss: 0.6602 - accuracy: 0.7667\n",
      "Epoch 38/200\n",
      "19/19 [==============================] - 0s 7ms/step - loss: 0.6458 - accuracy: 0.7750\n",
      "Epoch 39/200\n",
      "19/19 [==============================] - 0s 5ms/step - loss: 0.6489 - accuracy: 0.7750\n",
      "Epoch 40/200\n",
      "19/19 [==============================] - 0s 10ms/step - loss: 0.6391 - accuracy: 0.7750\n",
      "Epoch 41/200\n",
      "19/19 [==============================] - 0s 6ms/step - loss: 0.6289 - accuracy: 0.7783\n",
      "Epoch 42/200\n",
      "19/19 [==============================] - 0s 7ms/step - loss: 0.6295 - accuracy: 0.7967\n",
      "Epoch 43/200\n",
      "19/19 [==============================] - 0s 7ms/step - loss: 0.6286 - accuracy: 0.7850\n",
      "Epoch 44/200\n",
      "19/19 [==============================] - 0s 7ms/step - loss: 0.6303 - accuracy: 0.7867\n",
      "Epoch 45/200\n",
      "19/19 [==============================] - 0s 7ms/step - loss: 0.6224 - accuracy: 0.7850\n",
      "Epoch 46/200\n",
      "19/19 [==============================] - 0s 6ms/step - loss: 0.6171 - accuracy: 0.7883\n",
      "Epoch 47/200\n",
      "19/19 [==============================] - 0s 8ms/step - loss: 0.6394 - accuracy: 0.7750\n",
      "Epoch 48/200\n",
      "19/19 [==============================] - 0s 6ms/step - loss: 0.6233 - accuracy: 0.7867\n",
      "Epoch 49/200\n",
      "19/19 [==============================] - 0s 7ms/step - loss: 0.6134 - accuracy: 0.7800\n",
      "Epoch 50/200\n",
      "19/19 [==============================] - 0s 6ms/step - loss: 0.6165 - accuracy: 0.7983\n",
      "Epoch 51/200\n",
      "19/19 [==============================] - 0s 7ms/step - loss: 0.6066 - accuracy: 0.7800\n",
      "Epoch 52/200\n",
      "19/19 [==============================] - 0s 6ms/step - loss: 0.5994 - accuracy: 0.7950\n",
      "Epoch 53/200\n",
      "19/19 [==============================] - 0s 7ms/step - loss: 0.5903 - accuracy: 0.7950\n",
      "Epoch 54/200\n",
      "19/19 [==============================] - 0s 5ms/step - loss: 0.5966 - accuracy: 0.7933\n",
      "Epoch 55/200\n",
      "19/19 [==============================] - 0s 5ms/step - loss: 0.5917 - accuracy: 0.7950\n",
      "Epoch 56/200\n",
      "19/19 [==============================] - 0s 7ms/step - loss: 0.5918 - accuracy: 0.7967\n",
      "Epoch 57/200\n",
      "19/19 [==============================] - 0s 6ms/step - loss: 0.5880 - accuracy: 0.7933\n",
      "Epoch 58/200\n",
      "19/19 [==============================] - 0s 7ms/step - loss: 0.5796 - accuracy: 0.8083\n",
      "Epoch 59/200\n",
      "19/19 [==============================] - 0s 6ms/step - loss: 0.5828 - accuracy: 0.8067\n",
      "Epoch 60/200\n",
      "19/19 [==============================] - 0s 6ms/step - loss: 0.5762 - accuracy: 0.8100\n",
      "Epoch 61/200\n",
      "19/19 [==============================] - 0s 5ms/step - loss: 0.5853 - accuracy: 0.7967\n",
      "Epoch 62/200\n",
      "19/19 [==============================] - 0s 8ms/step - loss: 0.5753 - accuracy: 0.8050\n",
      "Epoch 63/200\n",
      "19/19 [==============================] - 0s 5ms/step - loss: 0.5821 - accuracy: 0.7900\n",
      "Epoch 64/200\n",
      "19/19 [==============================] - 0s 6ms/step - loss: 0.5803 - accuracy: 0.7950\n",
      "Epoch 65/200\n",
      "19/19 [==============================] - 0s 6ms/step - loss: 0.5764 - accuracy: 0.7850\n",
      "Epoch 66/200\n",
      "19/19 [==============================] - 0s 7ms/step - loss: 0.5702 - accuracy: 0.8050\n",
      "Epoch 67/200\n",
      "19/19 [==============================] - 0s 6ms/step - loss: 0.5746 - accuracy: 0.7917\n",
      "Epoch 68/200\n",
      "19/19 [==============================] - 0s 8ms/step - loss: 0.5603 - accuracy: 0.8100\n",
      "Epoch 69/200\n",
      "19/19 [==============================] - 0s 6ms/step - loss: 0.5917 - accuracy: 0.7700\n",
      "Epoch 70/200\n",
      "19/19 [==============================] - 0s 10ms/step - loss: 0.5909 - accuracy: 0.7900\n",
      "Epoch 71/200\n",
      "19/19 [==============================] - 0s 9ms/step - loss: 0.5748 - accuracy: 0.7867\n",
      "Epoch 72/200\n",
      "19/19 [==============================] - 0s 8ms/step - loss: 0.5619 - accuracy: 0.8100\n",
      "Epoch 73/200\n",
      "19/19 [==============================] - 0s 6ms/step - loss: 0.5581 - accuracy: 0.8033\n",
      "Epoch 74/200\n",
      "19/19 [==============================] - 0s 8ms/step - loss: 0.5612 - accuracy: 0.7933\n",
      "Epoch 75/200\n",
      "19/19 [==============================] - 0s 6ms/step - loss: 0.5565 - accuracy: 0.7983\n",
      "Epoch 76/200\n",
      "19/19 [==============================] - 0s 7ms/step - loss: 0.5529 - accuracy: 0.8017\n",
      "Epoch 77/200\n",
      "19/19 [==============================] - 0s 5ms/step - loss: 0.5495 - accuracy: 0.8033\n",
      "Epoch 78/200\n",
      "19/19 [==============================] - 0s 7ms/step - loss: 0.5490 - accuracy: 0.8083\n",
      "Epoch 79/200\n",
      "19/19 [==============================] - 0s 8ms/step - loss: 0.5522 - accuracy: 0.8017\n",
      "Epoch 80/200\n",
      "19/19 [==============================] - 0s 7ms/step - loss: 0.5535 - accuracy: 0.8217\n",
      "Epoch 81/200\n",
      "19/19 [==============================] - 0s 8ms/step - loss: 0.5459 - accuracy: 0.7983\n",
      "Epoch 82/200\n",
      "19/19 [==============================] - 0s 8ms/step - loss: 0.5432 - accuracy: 0.8050\n",
      "Epoch 83/200\n",
      "19/19 [==============================] - 0s 7ms/step - loss: 0.5437 - accuracy: 0.8100\n",
      "Epoch 84/200\n",
      "19/19 [==============================] - 0s 9ms/step - loss: 0.5445 - accuracy: 0.8017\n",
      "Epoch 85/200\n",
      "19/19 [==============================] - 0s 6ms/step - loss: 0.5422 - accuracy: 0.8050\n",
      "Epoch 86/200\n",
      "19/19 [==============================] - 0s 5ms/step - loss: 0.5410 - accuracy: 0.8100\n",
      "Epoch 87/200\n",
      "19/19 [==============================] - 0s 7ms/step - loss: 0.5335 - accuracy: 0.8100\n",
      "Epoch 88/200\n",
      "19/19 [==============================] - 0s 4ms/step - loss: 0.5410 - accuracy: 0.8117\n",
      "Epoch 89/200\n",
      "19/19 [==============================] - 0s 6ms/step - loss: 0.5358 - accuracy: 0.7983\n",
      "Epoch 90/200\n",
      "19/19 [==============================] - 0s 8ms/step - loss: 0.5392 - accuracy: 0.7983\n",
      "Epoch 91/200\n",
      "19/19 [==============================] - 0s 7ms/step - loss: 0.5521 - accuracy: 0.8000\n",
      "Epoch 92/200\n",
      "19/19 [==============================] - 0s 9ms/step - loss: 0.5443 - accuracy: 0.8050\n",
      "Epoch 93/200\n",
      "19/19 [==============================] - 0s 9ms/step - loss: 0.5379 - accuracy: 0.8150\n",
      "Epoch 94/200\n",
      "19/19 [==============================] - 0s 8ms/step - loss: 0.5271 - accuracy: 0.8100\n",
      "Epoch 95/200\n",
      "19/19 [==============================] - 0s 7ms/step - loss: 0.5353 - accuracy: 0.8100\n",
      "Epoch 96/200\n",
      "19/19 [==============================] - 0s 9ms/step - loss: 0.5501 - accuracy: 0.8033\n",
      "Epoch 97/200\n",
      "19/19 [==============================] - 0s 8ms/step - loss: 0.5290 - accuracy: 0.8100\n",
      "Epoch 98/200\n",
      "19/19 [==============================] - 0s 12ms/step - loss: 0.5293 - accuracy: 0.8067\n",
      "Epoch 99/200\n",
      "19/19 [==============================] - 0s 7ms/step - loss: 0.5294 - accuracy: 0.8183\n",
      "Epoch 100/200\n",
      "19/19 [==============================] - 0s 9ms/step - loss: 0.5291 - accuracy: 0.8033\n",
      "Epoch 101/200\n",
      "19/19 [==============================] - 0s 5ms/step - loss: 0.5443 - accuracy: 0.7900\n",
      "Epoch 102/200\n",
      "19/19 [==============================] - 0s 5ms/step - loss: 0.5491 - accuracy: 0.7967\n",
      "Epoch 103/200\n",
      "19/19 [==============================] - 0s 7ms/step - loss: 0.5493 - accuracy: 0.7900\n",
      "Epoch 104/200\n",
      "19/19 [==============================] - 0s 6ms/step - loss: 0.5290 - accuracy: 0.8100\n",
      "Epoch 105/200\n",
      "19/19 [==============================] - 0s 4ms/step - loss: 0.5309 - accuracy: 0.8033\n",
      "Epoch 106/200\n",
      "19/19 [==============================] - 0s 8ms/step - loss: 0.5262 - accuracy: 0.8150\n",
      "Epoch 107/200\n",
      "19/19 [==============================] - 0s 7ms/step - loss: 0.5250 - accuracy: 0.8117\n",
      "Epoch 108/200\n",
      "19/19 [==============================] - 0s 8ms/step - loss: 0.5346 - accuracy: 0.7983\n",
      "Epoch 109/200\n",
      "19/19 [==============================] - 0s 6ms/step - loss: 0.5209 - accuracy: 0.8083\n",
      "Epoch 110/200\n",
      "19/19 [==============================] - 0s 4ms/step - loss: 0.5327 - accuracy: 0.8050\n",
      "Epoch 111/200\n",
      "19/19 [==============================] - 0s 5ms/step - loss: 0.5334 - accuracy: 0.7967\n",
      "Epoch 112/200\n",
      "19/19 [==============================] - 0s 4ms/step - loss: 0.5389 - accuracy: 0.8000\n",
      "Epoch 113/200\n",
      "19/19 [==============================] - 0s 6ms/step - loss: 0.5200 - accuracy: 0.8117\n",
      "Epoch 114/200\n",
      "19/19 [==============================] - 0s 7ms/step - loss: 0.5405 - accuracy: 0.8000\n",
      "Epoch 115/200\n",
      "19/19 [==============================] - 0s 8ms/step - loss: 0.5176 - accuracy: 0.8133\n",
      "Epoch 116/200\n",
      "19/19 [==============================] - 0s 6ms/step - loss: 0.5178 - accuracy: 0.8200\n",
      "Epoch 117/200\n",
      "19/19 [==============================] - 0s 9ms/step - loss: 0.5100 - accuracy: 0.8200\n",
      "Epoch 118/200\n",
      "19/19 [==============================] - 0s 8ms/step - loss: 0.5105 - accuracy: 0.8183\n",
      "Epoch 119/200\n",
      "19/19 [==============================] - 0s 7ms/step - loss: 0.5140 - accuracy: 0.8200\n",
      "Epoch 120/200\n",
      "19/19 [==============================] - 0s 6ms/step - loss: 0.5089 - accuracy: 0.8217\n",
      "Epoch 121/200\n",
      "19/19 [==============================] - 0s 9ms/step - loss: 0.5129 - accuracy: 0.8133\n",
      "Epoch 122/200\n",
      "19/19 [==============================] - 0s 6ms/step - loss: 0.5121 - accuracy: 0.8017\n",
      "Epoch 123/200\n",
      "19/19 [==============================] - 0s 8ms/step - loss: 0.5136 - accuracy: 0.8100\n",
      "Epoch 124/200\n",
      "19/19 [==============================] - 0s 7ms/step - loss: 0.5104 - accuracy: 0.8167\n",
      "Epoch 125/200\n",
      "19/19 [==============================] - 0s 8ms/step - loss: 0.5118 - accuracy: 0.8100\n",
      "Epoch 126/200\n",
      "19/19 [==============================] - 0s 8ms/step - loss: 0.5047 - accuracy: 0.8217\n",
      "Epoch 127/200\n",
      "19/19 [==============================] - 0s 6ms/step - loss: 0.5099 - accuracy: 0.8217\n",
      "Epoch 128/200\n",
      "19/19 [==============================] - 0s 9ms/step - loss: 0.5199 - accuracy: 0.8083\n",
      "Epoch 129/200\n",
      "19/19 [==============================] - 0s 9ms/step - loss: 0.5127 - accuracy: 0.8133\n",
      "Epoch 130/200\n",
      "19/19 [==============================] - 0s 8ms/step - loss: 0.5082 - accuracy: 0.8167\n",
      "Epoch 131/200\n",
      "19/19 [==============================] - 0s 8ms/step - loss: 0.5070 - accuracy: 0.8083\n",
      "Epoch 132/200\n",
      "19/19 [==============================] - 0s 8ms/step - loss: 0.5370 - accuracy: 0.7933\n",
      "Epoch 133/200\n",
      "19/19 [==============================] - 0s 9ms/step - loss: 0.5084 - accuracy: 0.8133\n",
      "Epoch 134/200\n",
      "19/19 [==============================] - 0s 7ms/step - loss: 0.5023 - accuracy: 0.8267\n",
      "Epoch 135/200\n",
      "19/19 [==============================] - 0s 7ms/step - loss: 0.5049 - accuracy: 0.8117\n",
      "Epoch 136/200\n",
      "19/19 [==============================] - 0s 7ms/step - loss: 0.5071 - accuracy: 0.8083\n",
      "Epoch 137/200\n",
      "19/19 [==============================] - 0s 4ms/step - loss: 0.4992 - accuracy: 0.8167\n",
      "Epoch 138/200\n",
      "19/19 [==============================] - 0s 5ms/step - loss: 0.5019 - accuracy: 0.8200\n",
      "Epoch 139/200\n",
      "19/19 [==============================] - 0s 7ms/step - loss: 0.5074 - accuracy: 0.8233\n",
      "Epoch 140/200\n",
      "19/19 [==============================] - 0s 8ms/step - loss: 0.5070 - accuracy: 0.8083\n",
      "Epoch 141/200\n",
      "19/19 [==============================] - 0s 8ms/step - loss: 0.5162 - accuracy: 0.7950\n",
      "Epoch 142/200\n",
      "19/19 [==============================] - 0s 8ms/step - loss: 0.5180 - accuracy: 0.8033\n",
      "Epoch 143/200\n",
      "19/19 [==============================] - 0s 7ms/step - loss: 0.5272 - accuracy: 0.7917\n",
      "Epoch 144/200\n",
      "19/19 [==============================] - 0s 7ms/step - loss: 0.5090 - accuracy: 0.8150\n",
      "Epoch 145/200\n",
      "19/19 [==============================] - 0s 6ms/step - loss: 0.5153 - accuracy: 0.7983\n",
      "Epoch 146/200\n",
      "19/19 [==============================] - 0s 7ms/step - loss: 0.5017 - accuracy: 0.8100\n",
      "Epoch 147/200\n",
      "19/19 [==============================] - 0s 7ms/step - loss: 0.5074 - accuracy: 0.8183\n",
      "Epoch 148/200\n",
      "19/19 [==============================] - 0s 7ms/step - loss: 0.5039 - accuracy: 0.8217\n",
      "Epoch 149/200\n",
      "19/19 [==============================] - 0s 8ms/step - loss: 0.4921 - accuracy: 0.8183\n",
      "Epoch 150/200\n",
      "19/19 [==============================] - 0s 7ms/step - loss: 0.4940 - accuracy: 0.8133\n",
      "Epoch 151/200\n",
      "19/19 [==============================] - 0s 9ms/step - loss: 0.4935 - accuracy: 0.8217\n",
      "Epoch 152/200\n",
      "19/19 [==============================] - 0s 6ms/step - loss: 0.4982 - accuracy: 0.8250\n",
      "Epoch 153/200\n",
      "19/19 [==============================] - 0s 8ms/step - loss: 0.4986 - accuracy: 0.8167\n",
      "Epoch 154/200\n",
      "19/19 [==============================] - 0s 9ms/step - loss: 0.5051 - accuracy: 0.8133\n",
      "Epoch 155/200\n",
      "19/19 [==============================] - 0s 6ms/step - loss: 0.5308 - accuracy: 0.7933\n",
      "Epoch 156/200\n",
      "19/19 [==============================] - 0s 7ms/step - loss: 0.4941 - accuracy: 0.8200\n",
      "Epoch 157/200\n",
      "19/19 [==============================] - 0s 8ms/step - loss: 0.4907 - accuracy: 0.8200\n",
      "Epoch 158/200\n",
      "19/19 [==============================] - 0s 6ms/step - loss: 0.5002 - accuracy: 0.8117\n",
      "Epoch 159/200\n",
      "19/19 [==============================] - 0s 7ms/step - loss: 0.4981 - accuracy: 0.8183\n",
      "Epoch 160/200\n",
      "19/19 [==============================] - 0s 7ms/step - loss: 0.4977 - accuracy: 0.8267\n",
      "Epoch 161/200\n",
      "19/19 [==============================] - 0s 6ms/step - loss: 0.5065 - accuracy: 0.8050\n",
      "Epoch 162/200\n",
      "19/19 [==============================] - 0s 7ms/step - loss: 0.5128 - accuracy: 0.8033\n",
      "Epoch 163/200\n",
      "19/19 [==============================] - 0s 6ms/step - loss: 0.4902 - accuracy: 0.8233\n",
      "Epoch 164/200\n",
      "19/19 [==============================] - 0s 6ms/step - loss: 0.5005 - accuracy: 0.8050\n",
      "Epoch 165/200\n",
      "19/19 [==============================] - 0s 6ms/step - loss: 0.5090 - accuracy: 0.8167\n",
      "Epoch 166/200\n",
      "19/19 [==============================] - 0s 6ms/step - loss: 0.4914 - accuracy: 0.8267\n",
      "Epoch 167/200\n",
      "19/19 [==============================] - 0s 8ms/step - loss: 0.4856 - accuracy: 0.8250\n",
      "Epoch 168/200\n",
      "19/19 [==============================] - 0s 7ms/step - loss: 0.4833 - accuracy: 0.8283\n",
      "Epoch 169/200\n",
      "19/19 [==============================] - 0s 8ms/step - loss: 0.4936 - accuracy: 0.8083\n",
      "Epoch 170/200\n",
      "19/19 [==============================] - 0s 8ms/step - loss: 0.4886 - accuracy: 0.8233\n",
      "Epoch 171/200\n",
      "19/19 [==============================] - 0s 7ms/step - loss: 0.4978 - accuracy: 0.8150\n",
      "Epoch 172/200\n",
      "19/19 [==============================] - 0s 8ms/step - loss: 0.4947 - accuracy: 0.8233\n",
      "Epoch 173/200\n",
      "19/19 [==============================] - 0s 12ms/step - loss: 0.4864 - accuracy: 0.8283\n",
      "Epoch 174/200\n",
      "19/19 [==============================] - 0s 8ms/step - loss: 0.5002 - accuracy: 0.8150\n",
      "Epoch 175/200\n",
      "19/19 [==============================] - 0s 8ms/step - loss: 0.4873 - accuracy: 0.8233\n",
      "Epoch 176/200\n",
      "19/19 [==============================] - 0s 8ms/step - loss: 0.4872 - accuracy: 0.8300\n",
      "Epoch 177/200\n",
      "19/19 [==============================] - 0s 8ms/step - loss: 0.4901 - accuracy: 0.8183\n",
      "Epoch 178/200\n",
      "19/19 [==============================] - 0s 7ms/step - loss: 0.4997 - accuracy: 0.8133\n",
      "Epoch 179/200\n",
      "19/19 [==============================] - 0s 7ms/step - loss: 0.5095 - accuracy: 0.8083\n",
      "Epoch 180/200\n",
      "19/19 [==============================] - 0s 10ms/step - loss: 0.4829 - accuracy: 0.8217\n",
      "Epoch 181/200\n",
      "19/19 [==============================] - 0s 13ms/step - loss: 0.4816 - accuracy: 0.8200\n",
      "Epoch 182/200\n",
      "19/19 [==============================] - 0s 9ms/step - loss: 0.5021 - accuracy: 0.8133\n",
      "Epoch 183/200\n",
      "19/19 [==============================] - 0s 8ms/step - loss: 0.4870 - accuracy: 0.8200\n",
      "Epoch 184/200\n",
      "19/19 [==============================] - 0s 9ms/step - loss: 0.4958 - accuracy: 0.8167\n",
      "Epoch 185/200\n",
      "19/19 [==============================] - 0s 8ms/step - loss: 0.4870 - accuracy: 0.8117\n",
      "Epoch 186/200\n",
      "19/19 [==============================] - 0s 11ms/step - loss: 0.4852 - accuracy: 0.8250\n",
      "Epoch 187/200\n",
      "19/19 [==============================] - 0s 9ms/step - loss: 0.4798 - accuracy: 0.8283\n",
      "Epoch 188/200\n",
      "19/19 [==============================] - 0s 10ms/step - loss: 0.4907 - accuracy: 0.8233\n",
      "Epoch 189/200\n",
      "19/19 [==============================] - 0s 7ms/step - loss: 0.4829 - accuracy: 0.8250\n",
      "Epoch 190/200\n",
      "19/19 [==============================] - 0s 8ms/step - loss: 0.4746 - accuracy: 0.8117\n",
      "Epoch 191/200\n",
      "19/19 [==============================] - 0s 5ms/step - loss: 0.4816 - accuracy: 0.8283\n",
      "Epoch 192/200\n",
      "19/19 [==============================] - 0s 5ms/step - loss: 0.4925 - accuracy: 0.8100\n",
      "Epoch 193/200\n",
      "19/19 [==============================] - 0s 10ms/step - loss: 0.5488 - accuracy: 0.7950\n",
      "Epoch 194/200\n",
      "19/19 [==============================] - 0s 7ms/step - loss: 0.5488 - accuracy: 0.7900\n",
      "Epoch 195/200\n",
      "19/19 [==============================] - 0s 7ms/step - loss: 0.5071 - accuracy: 0.7983\n",
      "Epoch 196/200\n",
      "19/19 [==============================] - 0s 9ms/step - loss: 0.4818 - accuracy: 0.8333\n",
      "Epoch 197/200\n",
      "19/19 [==============================] - 0s 9ms/step - loss: 0.4949 - accuracy: 0.8083\n",
      "Epoch 198/200\n",
      "19/19 [==============================] - 0s 7ms/step - loss: 0.4883 - accuracy: 0.8167\n",
      "Epoch 199/200\n",
      "19/19 [==============================] - 0s 8ms/step - loss: 0.4802 - accuracy: 0.8217\n",
      "Epoch 200/200\n",
      "19/19 [==============================] - 0s 8ms/step - loss: 0.4802 - accuracy: 0.8150\n"
     ]
    },
    {
     "output_type": "execute_result",
     "data": {
      "text/plain": [
       "<tensorflow.python.keras.callbacks.History at 0x7efd2d46d650>"
      ]
     },
     "metadata": {},
     "execution_count": 20
    }
   ],
   "source": [
    "# Fit your model to the training data for 200 epochs\n",
    "model.fit(coord_train, competitors_train,epochs=200)"
   ]
  },
  {
   "cell_type": "code",
   "execution_count": 21,
   "metadata": {},
   "outputs": [
    {
     "output_type": "stream",
     "name": "stdout",
     "text": [
      "7/7 [==============================] - 0s 4ms/step - loss: 0.6598 - accuracy: 0.8000\n"
     ]
    }
   ],
   "source": [
    "# Evaluate your model accuracy on the test data\n",
    "accuracy = model.evaluate(coord_test, competitors_test)[1]"
   ]
  },
  {
   "cell_type": "code",
   "execution_count": 22,
   "metadata": {},
   "outputs": [
    {
     "output_type": "stream",
     "name": "stdout",
     "text": [
      "Accuracy: 0.800000011920929\n"
     ]
    }
   ],
   "source": [
    "# Print accuracy\n",
    "print('Accuracy:', accuracy)"
   ]
  },
  {
   "source": [
    "## Softmax predictions"
   ],
   "cell_type": "markdown",
   "metadata": {}
  },
  {
   "cell_type": "code",
   "execution_count": 27,
   "metadata": {},
   "outputs": [],
   "source": [
    "import numpy as np"
   ]
  },
  {
   "cell_type": "code",
   "execution_count": 28,
   "metadata": {},
   "outputs": [],
   "source": [
    "coords_small_test = pd.DataFrame({\n",
    "    'xCoord':[0.209048, 0.082103, 0.198165, -0.348660, 0.214726],\n",
    "    'yCoord':[-0.077398, -0.721407, -0.674646, 0.035086, 0.183894]\n",
    "})"
   ]
  },
  {
   "cell_type": "code",
   "execution_count": 29,
   "metadata": {},
   "outputs": [],
   "source": [
    "competitors_small_test = np.array([[0., 0., 1., 0.], [0., 0., 0., 1.],\n",
    "                                   [0., 0., 0., 1.], [1., 0., 0., 0.],\n",
    "                                   [0., 0., 1., 0.]])"
   ]
  },
  {
   "cell_type": "code",
   "execution_count": 30,
   "metadata": {},
   "outputs": [],
   "source": [
    "# Predict on coords_small_test\n",
    "preds = model.predict(coords_small_test)"
   ]
  },
  {
   "cell_type": "code",
   "execution_count": 31,
   "metadata": {},
   "outputs": [
    {
     "output_type": "stream",
     "name": "stdout",
     "text": [
      "Raw Model Predictions                         | True labels\n[0.36757675 0.01388432 0.60869336 0.00984556] | [0. 0. 1. 0.]\n[0.07597809 0.00095835 0.03287261 0.8901909 ] | [0. 0. 0. 1.]\n[0.2729116  0.00389942 0.15097886 0.5722101 ] | [0. 0. 0. 1.]\n[0.9237413  0.03597204 0.03818503 0.00210172] | [1. 0. 0. 0.]\n[0.28337267 0.01434216 0.6930492  0.00923595] | [0. 0. 1. 0.]\n"
     ]
    }
   ],
   "source": [
    "# Print preds vs true values\n",
    "print(\"{:45} | {}\".format('Raw Model Predictions','True labels'))\n",
    "for i,pred in enumerate(preds):\n",
    "  print(\"{} | {}\".format(pred,competitors_small_test[i]))"
   ]
  },
  {
   "cell_type": "code",
   "execution_count": 32,
   "metadata": {},
   "outputs": [],
   "source": [
    "# Extract the position of highest probability from each pred vector\n",
    "preds_chosen = [np.argmax(pred) for pred in preds]"
   ]
  },
  {
   "cell_type": "code",
   "execution_count": 34,
   "metadata": {},
   "outputs": [
    {
     "output_type": "stream",
     "name": "stdout",
     "text": [
      "Rounded Model Predictions | True labels\n                        2 | [0. 0. 1. 0.]\n                        3 | [0. 0. 0. 1.]\n                        3 | [0. 0. 0. 1.]\n                        0 | [1. 0. 0. 0.]\n                        2 | [0. 0. 1. 0.]\n"
     ]
    }
   ],
   "source": [
    "# Print preds vs true values\n",
    "print(\"{:10} | {}\".format('Rounded Model Predictions','True labels'))\n",
    "for i,pred in enumerate(preds_chosen):\n",
    "    print(\"{:25} | {}\".format(pred,competitors_small_test[i]))"
   ]
  }
 ]
}