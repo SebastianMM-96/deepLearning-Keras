{
 "metadata": {
  "language_info": {
   "codemirror_mode": {
    "name": "ipython",
    "version": 3
   },
   "file_extension": ".py",
   "mimetype": "text/x-python",
   "name": "python",
   "nbconvert_exporter": "python",
   "pygments_lexer": "ipython3",
   "version": "3.7.7-final"
  },
  "orig_nbformat": 2,
  "kernelspec": {
   "name": "python3",
   "display_name": "Python 3",
   "language": "python"
  }
 },
 "nbformat": 4,
 "nbformat_minor": 2,
 "cells": [
  {
   "source": [
    "# Irrigation Machine\n",
    "## Multi-label classification\n",
    "\n",
    "![image](https://goodboychan.github.io/chans_jupyter/images/copied_from_nb/image/multi_label.png)"
   ],
   "cell_type": "markdown",
   "metadata": {}
  },
  {
   "source": [
    "## An irrigation machine\n",
    "\n",
    "We're going to automate the watering of farm parcels by making an intelligent irrigation machine. Multi-label classification problems differ from multi-class problems in that each observation can be labeled with zero or more classes. So classes/labels are not mutually exclusive, you could water all, none or any combination of farm parcels based on the inputs.\n",
    "\n",
    "![image2](https://goodboychan.github.io/chans_jupyter/images/copied_from_nb/image/mutilabel_dataset.jpg)"
   ],
   "cell_type": "markdown",
   "metadata": {}
  },
  {
   "cell_type": "code",
   "execution_count": 1,
   "metadata": {},
   "outputs": [],
   "source": [
    "from keras.models import Sequential\n",
    "from keras.layers import Dense\n",
    "from sklearn.model_selection import train_test_split\n",
    "import pandas as pd\n",
    "import numpy as np"
   ]
  },
  {
   "cell_type": "code",
   "execution_count": 2,
   "metadata": {},
   "outputs": [],
   "source": [
    "# Instantiate a Sequential model\n",
    "model = Sequential()"
   ]
  },
  {
   "cell_type": "code",
   "execution_count": 3,
   "metadata": {},
   "outputs": [],
   "source": [
    "# Add a hidden layer of 64 neurons and a 20 neuron's input\n",
    "model.add(Dense(64, input_shape=(20,), activation='relu'))\n",
    "\n",
    "# Add an output layer of 3 neurons with sigmoid activation\n",
    "model.add(Dense(3, activation='sigmoid'))\n",
    "\n",
    "# Compile your model with binary crossentropy loss\n",
    "model.compile(optimizer='adam',\n",
    "           loss = 'binary_crossentropy',\n",
    "           metrics=['accuracy'])"
   ]
  },
  {
   "cell_type": "code",
   "execution_count": 4,
   "metadata": {},
   "outputs": [
    {
     "output_type": "stream",
     "name": "stdout",
     "text": [
      "Model: \"sequential\"\n_________________________________________________________________\nLayer (type)                 Output Shape              Param #   \n=================================================================\ndense (Dense)                (None, 64)                1344      \n_________________________________________________________________\ndense_1 (Dense)              (None, 3)                 195       \n=================================================================\nTotal params: 1,539\nTrainable params: 1,539\nNon-trainable params: 0\n_________________________________________________________________\n"
     ]
    }
   ],
   "source": [
    "model.summary()"
   ]
  },
  {
   "cell_type": "code",
   "execution_count": 5,
   "metadata": {},
   "outputs": [],
   "source": [
    "irrigation = pd.read_csv('irrigation_machine.csv', index_col=0)"
   ]
  },
  {
   "cell_type": "code",
   "execution_count": 6,
   "metadata": {},
   "outputs": [],
   "source": [
    "parcels = irrigation[['parcel_0', 'parcel_1', 'parcel_2']].to_numpy()\n",
    "sensors = irrigation.drop(['parcel_0', 'parcel_1', 'parcel_2'], axis=1).to_numpy()"
   ]
  },
  {
   "cell_type": "code",
   "execution_count": 7,
   "metadata": {},
   "outputs": [],
   "source": [
    "sensors_train, sensors_test, parcels_train, parcels_test = train_test_split(sensors, parcels, test_size=0.3, stratify=parcels)"
   ]
  },
  {
   "cell_type": "code",
   "execution_count": 8,
   "metadata": {},
   "outputs": [
    {
     "output_type": "stream",
     "name": "stdout",
     "text": [
      "Epoch 1/100\n",
      "35/35 [==============================] - 1s 21ms/step - loss: 0.8825 - accuracy: 0.3920 - val_loss: 0.5956 - val_accuracy: 0.4036\n",
      "Epoch 2/100\n",
      "35/35 [==============================] - 0s 7ms/step - loss: 0.5108 - accuracy: 0.5107 - val_loss: 0.4728 - val_accuracy: 0.5643\n",
      "Epoch 3/100\n",
      "35/35 [==============================] - 0s 9ms/step - loss: 0.4177 - accuracy: 0.5839 - val_loss: 0.4085 - val_accuracy: 0.5429\n",
      "Epoch 4/100\n",
      "35/35 [==============================] - 0s 8ms/step - loss: 0.3679 - accuracy: 0.5911 - val_loss: 0.3699 - val_accuracy: 0.6214\n",
      "Epoch 5/100\n",
      "35/35 [==============================] - 0s 6ms/step - loss: 0.3351 - accuracy: 0.6018 - val_loss: 0.3460 - val_accuracy: 0.5250\n",
      "Epoch 6/100\n",
      "35/35 [==============================] - 0s 8ms/step - loss: 0.3119 - accuracy: 0.5973 - val_loss: 0.3314 - val_accuracy: 0.6107\n",
      "Epoch 7/100\n",
      "35/35 [==============================] - 0s 9ms/step - loss: 0.2958 - accuracy: 0.6062 - val_loss: 0.3151 - val_accuracy: 0.5714\n",
      "Epoch 8/100\n",
      "35/35 [==============================] - 0s 8ms/step - loss: 0.2821 - accuracy: 0.5929 - val_loss: 0.3081 - val_accuracy: 0.6036\n",
      "Epoch 9/100\n",
      "35/35 [==============================] - 0s 6ms/step - loss: 0.2723 - accuracy: 0.6098 - val_loss: 0.2967 - val_accuracy: 0.5714\n",
      "Epoch 10/100\n",
      "35/35 [==============================] - 0s 9ms/step - loss: 0.2631 - accuracy: 0.5946 - val_loss: 0.2899 - val_accuracy: 0.5893\n",
      "Epoch 11/100\n",
      "35/35 [==============================] - 0s 8ms/step - loss: 0.2557 - accuracy: 0.6152 - val_loss: 0.2886 - val_accuracy: 0.5357\n",
      "Epoch 12/100\n",
      "35/35 [==============================] - 0s 8ms/step - loss: 0.2487 - accuracy: 0.5973 - val_loss: 0.2797 - val_accuracy: 0.5750\n",
      "Epoch 13/100\n",
      "35/35 [==============================] - 0s 9ms/step - loss: 0.2420 - accuracy: 0.6009 - val_loss: 0.2737 - val_accuracy: 0.5607\n",
      "Epoch 14/100\n",
      "35/35 [==============================] - 0s 7ms/step - loss: 0.2358 - accuracy: 0.5866 - val_loss: 0.2697 - val_accuracy: 0.6036\n",
      "Epoch 15/100\n",
      "35/35 [==============================] - 0s 8ms/step - loss: 0.2315 - accuracy: 0.6018 - val_loss: 0.2728 - val_accuracy: 0.5857\n",
      "Epoch 16/100\n",
      "35/35 [==============================] - 0s 8ms/step - loss: 0.2258 - accuracy: 0.6000 - val_loss: 0.2679 - val_accuracy: 0.5857\n",
      "Epoch 17/100\n",
      "35/35 [==============================] - 0s 9ms/step - loss: 0.2207 - accuracy: 0.5973 - val_loss: 0.2646 - val_accuracy: 0.5857\n",
      "Epoch 18/100\n",
      "35/35 [==============================] - 0s 9ms/step - loss: 0.2164 - accuracy: 0.5929 - val_loss: 0.2553 - val_accuracy: 0.5893\n",
      "Epoch 19/100\n",
      "35/35 [==============================] - 0s 10ms/step - loss: 0.2131 - accuracy: 0.6027 - val_loss: 0.2636 - val_accuracy: 0.5964\n",
      "Epoch 20/100\n",
      "35/35 [==============================] - 0s 8ms/step - loss: 0.2092 - accuracy: 0.5884 - val_loss: 0.2502 - val_accuracy: 0.5571\n",
      "Epoch 21/100\n",
      "35/35 [==============================] - 0s 8ms/step - loss: 0.2064 - accuracy: 0.5911 - val_loss: 0.2571 - val_accuracy: 0.5429\n",
      "Epoch 22/100\n",
      "35/35 [==============================] - 0s 9ms/step - loss: 0.2034 - accuracy: 0.5920 - val_loss: 0.2538 - val_accuracy: 0.5464\n",
      "Epoch 23/100\n",
      "35/35 [==============================] - 0s 8ms/step - loss: 0.2010 - accuracy: 0.5875 - val_loss: 0.2484 - val_accuracy: 0.5643\n",
      "Epoch 24/100\n",
      "35/35 [==============================] - 0s 11ms/step - loss: 0.1968 - accuracy: 0.5848 - val_loss: 0.2435 - val_accuracy: 0.5286\n",
      "Epoch 25/100\n",
      "35/35 [==============================] - 0s 9ms/step - loss: 0.1965 - accuracy: 0.5777 - val_loss: 0.2509 - val_accuracy: 0.5643\n",
      "Epoch 26/100\n",
      "35/35 [==============================] - 0s 9ms/step - loss: 0.1936 - accuracy: 0.5902 - val_loss: 0.2531 - val_accuracy: 0.5429\n",
      "Epoch 27/100\n",
      "35/35 [==============================] - 0s 6ms/step - loss: 0.1913 - accuracy: 0.5920 - val_loss: 0.2506 - val_accuracy: 0.5286\n",
      "Epoch 28/100\n",
      "35/35 [==============================] - 0s 8ms/step - loss: 0.1884 - accuracy: 0.5866 - val_loss: 0.2416 - val_accuracy: 0.5429\n",
      "Epoch 29/100\n",
      "35/35 [==============================] - 0s 6ms/step - loss: 0.1872 - accuracy: 0.5946 - val_loss: 0.2387 - val_accuracy: 0.5679\n",
      "Epoch 30/100\n",
      "35/35 [==============================] - 0s 7ms/step - loss: 0.1871 - accuracy: 0.5929 - val_loss: 0.2375 - val_accuracy: 0.5786\n",
      "Epoch 31/100\n",
      "35/35 [==============================] - 0s 7ms/step - loss: 0.1828 - accuracy: 0.5830 - val_loss: 0.2356 - val_accuracy: 0.5786\n",
      "Epoch 32/100\n",
      "35/35 [==============================] - 0s 6ms/step - loss: 0.1820 - accuracy: 0.5920 - val_loss: 0.2542 - val_accuracy: 0.5464\n",
      "Epoch 33/100\n",
      "35/35 [==============================] - 0s 6ms/step - loss: 0.1803 - accuracy: 0.5902 - val_loss: 0.2467 - val_accuracy: 0.5071\n",
      "Epoch 34/100\n",
      "35/35 [==============================] - 0s 5ms/step - loss: 0.1801 - accuracy: 0.5973 - val_loss: 0.2614 - val_accuracy: 0.5179\n",
      "Epoch 35/100\n",
      "35/35 [==============================] - 0s 6ms/step - loss: 0.1783 - accuracy: 0.5920 - val_loss: 0.2358 - val_accuracy: 0.5429\n",
      "Epoch 36/100\n",
      "35/35 [==============================] - 0s 8ms/step - loss: 0.1747 - accuracy: 0.5848 - val_loss: 0.2430 - val_accuracy: 0.5571\n",
      "Epoch 37/100\n",
      "35/35 [==============================] - 0s 6ms/step - loss: 0.1737 - accuracy: 0.5830 - val_loss: 0.2375 - val_accuracy: 0.5571\n",
      "Epoch 38/100\n",
      "35/35 [==============================] - 0s 7ms/step - loss: 0.1738 - accuracy: 0.6009 - val_loss: 0.2335 - val_accuracy: 0.5429\n",
      "Epoch 39/100\n",
      "35/35 [==============================] - 0s 9ms/step - loss: 0.1726 - accuracy: 0.5830 - val_loss: 0.2439 - val_accuracy: 0.5893\n",
      "Epoch 40/100\n",
      "35/35 [==============================] - 0s 9ms/step - loss: 0.1715 - accuracy: 0.5991 - val_loss: 0.2371 - val_accuracy: 0.6214\n",
      "Epoch 41/100\n",
      "35/35 [==============================] - 0s 9ms/step - loss: 0.1709 - accuracy: 0.5982 - val_loss: 0.2408 - val_accuracy: 0.6000\n",
      "Epoch 42/100\n",
      "35/35 [==============================] - 0s 8ms/step - loss: 0.1673 - accuracy: 0.5982 - val_loss: 0.2345 - val_accuracy: 0.5679\n",
      "Epoch 43/100\n",
      "35/35 [==============================] - 0s 7ms/step - loss: 0.1672 - accuracy: 0.6062 - val_loss: 0.2411 - val_accuracy: 0.5536\n",
      "Epoch 44/100\n",
      "35/35 [==============================] - 0s 8ms/step - loss: 0.1665 - accuracy: 0.5982 - val_loss: 0.2392 - val_accuracy: 0.5821\n",
      "Epoch 45/100\n",
      "35/35 [==============================] - 0s 9ms/step - loss: 0.1685 - accuracy: 0.5804 - val_loss: 0.2358 - val_accuracy: 0.5821\n",
      "Epoch 46/100\n",
      "35/35 [==============================] - 0s 8ms/step - loss: 0.1631 - accuracy: 0.5991 - val_loss: 0.2412 - val_accuracy: 0.5750\n",
      "Epoch 47/100\n",
      "35/35 [==============================] - 0s 11ms/step - loss: 0.1630 - accuracy: 0.5848 - val_loss: 0.2517 - val_accuracy: 0.5714\n",
      "Epoch 48/100\n",
      "35/35 [==============================] - 0s 14ms/step - loss: 0.1612 - accuracy: 0.6000 - val_loss: 0.2364 - val_accuracy: 0.5429\n",
      "Epoch 49/100\n",
      "35/35 [==============================] - 0s 10ms/step - loss: 0.1596 - accuracy: 0.5902 - val_loss: 0.2381 - val_accuracy: 0.5786\n",
      "Epoch 50/100\n",
      "35/35 [==============================] - 0s 11ms/step - loss: 0.1595 - accuracy: 0.6018 - val_loss: 0.2407 - val_accuracy: 0.5643\n",
      "Epoch 51/100\n",
      "35/35 [==============================] - 0s 12ms/step - loss: 0.1590 - accuracy: 0.5911 - val_loss: 0.2489 - val_accuracy: 0.6143\n",
      "Epoch 52/100\n",
      "35/35 [==============================] - 0s 11ms/step - loss: 0.1574 - accuracy: 0.5830 - val_loss: 0.2377 - val_accuracy: 0.6250\n",
      "Epoch 53/100\n",
      "35/35 [==============================] - 0s 12ms/step - loss: 0.1582 - accuracy: 0.6116 - val_loss: 0.2440 - val_accuracy: 0.6071\n",
      "Epoch 54/100\n",
      "35/35 [==============================] - 0s 13ms/step - loss: 0.1554 - accuracy: 0.5973 - val_loss: 0.2425 - val_accuracy: 0.5571\n",
      "Epoch 55/100\n",
      "35/35 [==============================] - 0s 9ms/step - loss: 0.1530 - accuracy: 0.5973 - val_loss: 0.2358 - val_accuracy: 0.5643\n",
      "Epoch 56/100\n",
      "35/35 [==============================] - 0s 10ms/step - loss: 0.1534 - accuracy: 0.5964 - val_loss: 0.2393 - val_accuracy: 0.5607\n",
      "Epoch 57/100\n",
      "35/35 [==============================] - 0s 10ms/step - loss: 0.1527 - accuracy: 0.6036 - val_loss: 0.2383 - val_accuracy: 0.5536\n",
      "Epoch 58/100\n",
      "35/35 [==============================] - 0s 12ms/step - loss: 0.1503 - accuracy: 0.5964 - val_loss: 0.2429 - val_accuracy: 0.5536\n",
      "Epoch 59/100\n",
      "35/35 [==============================] - 0s 10ms/step - loss: 0.1503 - accuracy: 0.5973 - val_loss: 0.2363 - val_accuracy: 0.5750\n",
      "Epoch 60/100\n",
      "35/35 [==============================] - 0s 13ms/step - loss: 0.1523 - accuracy: 0.5920 - val_loss: 0.2413 - val_accuracy: 0.5714\n",
      "Epoch 61/100\n",
      "35/35 [==============================] - 0s 9ms/step - loss: 0.1478 - accuracy: 0.6080 - val_loss: 0.2374 - val_accuracy: 0.5714\n",
      "Epoch 62/100\n",
      "35/35 [==============================] - 0s 12ms/step - loss: 0.1469 - accuracy: 0.5991 - val_loss: 0.2373 - val_accuracy: 0.5500\n",
      "Epoch 63/100\n",
      "35/35 [==============================] - 0s 12ms/step - loss: 0.1474 - accuracy: 0.5893 - val_loss: 0.2408 - val_accuracy: 0.5250\n",
      "Epoch 64/100\n",
      "35/35 [==============================] - 0s 10ms/step - loss: 0.1451 - accuracy: 0.5982 - val_loss: 0.2649 - val_accuracy: 0.5357\n",
      "Epoch 65/100\n",
      "35/35 [==============================] - 0s 11ms/step - loss: 0.1454 - accuracy: 0.5911 - val_loss: 0.2512 - val_accuracy: 0.6464\n",
      "Epoch 66/100\n",
      "35/35 [==============================] - 0s 10ms/step - loss: 0.1445 - accuracy: 0.6107 - val_loss: 0.2418 - val_accuracy: 0.5250\n",
      "Epoch 67/100\n",
      "35/35 [==============================] - 0s 9ms/step - loss: 0.1430 - accuracy: 0.5929 - val_loss: 0.2436 - val_accuracy: 0.6000\n",
      "Epoch 68/100\n",
      "35/35 [==============================] - 0s 8ms/step - loss: 0.1420 - accuracy: 0.6089 - val_loss: 0.2403 - val_accuracy: 0.5571\n",
      "Epoch 69/100\n",
      "35/35 [==============================] - 0s 7ms/step - loss: 0.1403 - accuracy: 0.5982 - val_loss: 0.2418 - val_accuracy: 0.4964\n",
      "Epoch 70/100\n",
      "35/35 [==============================] - 0s 9ms/step - loss: 0.1436 - accuracy: 0.5991 - val_loss: 0.2478 - val_accuracy: 0.5643\n",
      "Epoch 71/100\n",
      "35/35 [==============================] - 0s 10ms/step - loss: 0.1427 - accuracy: 0.6000 - val_loss: 0.2624 - val_accuracy: 0.5500\n",
      "Epoch 72/100\n",
      "35/35 [==============================] - 0s 12ms/step - loss: 0.1404 - accuracy: 0.5848 - val_loss: 0.2582 - val_accuracy: 0.5429\n",
      "Epoch 73/100\n",
      "35/35 [==============================] - 0s 12ms/step - loss: 0.1374 - accuracy: 0.5982 - val_loss: 0.2769 - val_accuracy: 0.5393\n",
      "Epoch 74/100\n",
      "35/35 [==============================] - 0s 12ms/step - loss: 0.1388 - accuracy: 0.5964 - val_loss: 0.2527 - val_accuracy: 0.5929\n",
      "Epoch 75/100\n",
      "35/35 [==============================] - 0s 11ms/step - loss: 0.1370 - accuracy: 0.6009 - val_loss: 0.2514 - val_accuracy: 0.5607\n",
      "Epoch 76/100\n",
      "35/35 [==============================] - 0s 11ms/step - loss: 0.1365 - accuracy: 0.5902 - val_loss: 0.2470 - val_accuracy: 0.5393\n",
      "Epoch 77/100\n",
      "35/35 [==============================] - 0s 8ms/step - loss: 0.1346 - accuracy: 0.6143 - val_loss: 0.2458 - val_accuracy: 0.5286\n",
      "Epoch 78/100\n",
      "35/35 [==============================] - 0s 10ms/step - loss: 0.1331 - accuracy: 0.6125 - val_loss: 0.2471 - val_accuracy: 0.5714\n",
      "Epoch 79/100\n",
      "35/35 [==============================] - 0s 8ms/step - loss: 0.1337 - accuracy: 0.5964 - val_loss: 0.2571 - val_accuracy: 0.5500\n",
      "Epoch 80/100\n",
      "35/35 [==============================] - 0s 10ms/step - loss: 0.1343 - accuracy: 0.5938 - val_loss: 0.2495 - val_accuracy: 0.6321\n",
      "Epoch 81/100\n",
      "35/35 [==============================] - 0s 10ms/step - loss: 0.1301 - accuracy: 0.6018 - val_loss: 0.2472 - val_accuracy: 0.5536\n",
      "Epoch 82/100\n",
      "35/35 [==============================] - 0s 9ms/step - loss: 0.1301 - accuracy: 0.5920 - val_loss: 0.2442 - val_accuracy: 0.5929\n",
      "Epoch 83/100\n",
      "35/35 [==============================] - 0s 10ms/step - loss: 0.1324 - accuracy: 0.5991 - val_loss: 0.2417 - val_accuracy: 0.5536\n",
      "Epoch 84/100\n",
      "35/35 [==============================] - 0s 8ms/step - loss: 0.1280 - accuracy: 0.6045 - val_loss: 0.2443 - val_accuracy: 0.5321\n",
      "Epoch 85/100\n",
      "35/35 [==============================] - 0s 8ms/step - loss: 0.1284 - accuracy: 0.6054 - val_loss: 0.2425 - val_accuracy: 0.5393\n",
      "Epoch 86/100\n",
      "35/35 [==============================] - 0s 9ms/step - loss: 0.1270 - accuracy: 0.5902 - val_loss: 0.2549 - val_accuracy: 0.5536\n",
      "Epoch 87/100\n",
      "35/35 [==============================] - 0s 8ms/step - loss: 0.1243 - accuracy: 0.6214 - val_loss: 0.2536 - val_accuracy: 0.5143\n",
      "Epoch 88/100\n",
      "35/35 [==============================] - 0s 9ms/step - loss: 0.1242 - accuracy: 0.5875 - val_loss: 0.2460 - val_accuracy: 0.5536\n",
      "Epoch 89/100\n",
      "35/35 [==============================] - 0s 11ms/step - loss: 0.1234 - accuracy: 0.6134 - val_loss: 0.2560 - val_accuracy: 0.5857\n",
      "Epoch 90/100\n",
      "35/35 [==============================] - 0s 9ms/step - loss: 0.1239 - accuracy: 0.6089 - val_loss: 0.2522 - val_accuracy: 0.5500\n",
      "Epoch 91/100\n",
      "35/35 [==============================] - 0s 9ms/step - loss: 0.1221 - accuracy: 0.5982 - val_loss: 0.2510 - val_accuracy: 0.5250\n",
      "Epoch 92/100\n",
      "35/35 [==============================] - 0s 9ms/step - loss: 0.1208 - accuracy: 0.5973 - val_loss: 0.2552 - val_accuracy: 0.5679\n",
      "Epoch 93/100\n",
      "35/35 [==============================] - 0s 9ms/step - loss: 0.1210 - accuracy: 0.5973 - val_loss: 0.2508 - val_accuracy: 0.5500\n",
      "Epoch 94/100\n",
      "35/35 [==============================] - 0s 8ms/step - loss: 0.1198 - accuracy: 0.6107 - val_loss: 0.2547 - val_accuracy: 0.5750\n",
      "Epoch 95/100\n",
      "35/35 [==============================] - 0s 9ms/step - loss: 0.1192 - accuracy: 0.6018 - val_loss: 0.2532 - val_accuracy: 0.5750\n",
      "Epoch 96/100\n",
      "35/35 [==============================] - 0s 9ms/step - loss: 0.1178 - accuracy: 0.6179 - val_loss: 0.2547 - val_accuracy: 0.5714\n",
      "Epoch 97/100\n",
      "35/35 [==============================] - 0s 12ms/step - loss: 0.1177 - accuracy: 0.6134 - val_loss: 0.2551 - val_accuracy: 0.6250\n",
      "Epoch 98/100\n",
      "35/35 [==============================] - 0s 11ms/step - loss: 0.1169 - accuracy: 0.5938 - val_loss: 0.2564 - val_accuracy: 0.6214\n",
      "Epoch 99/100\n",
      "35/35 [==============================] - 0s 9ms/step - loss: 0.1163 - accuracy: 0.6161 - val_loss: 0.2560 - val_accuracy: 0.5714\n",
      "Epoch 100/100\n",
      "35/35 [==============================] - 0s 10ms/step - loss: 0.1153 - accuracy: 0.6027 - val_loss: 0.2569 - val_accuracy: 0.5357\n"
     ]
    },
    {
     "output_type": "execute_result",
     "data": {
      "text/plain": [
       "<tensorflow.python.keras.callbacks.History at 0x7fa91c41ae10>"
      ]
     },
     "metadata": {},
     "execution_count": 8
    }
   ],
   "source": [
    "# Train for 100 epochs using a validation split of 0.2\n",
    "model.fit(sensors_train, parcels_train, epochs = 100, validation_split = 0.2)"
   ]
  },
  {
   "cell_type": "code",
   "execution_count": 9,
   "metadata": {},
   "outputs": [],
   "source": [
    "# Predict on sensors_test and round up the predictions\n",
    "preds = model.predict(sensors_test)\n",
    "preds_rounded = np.round(preds)"
   ]
  },
  {
   "cell_type": "code",
   "execution_count": 10,
   "metadata": {},
   "outputs": [
    {
     "output_type": "stream",
     "name": "stdout",
     "text": [
      "Rounded Predictions: \n [[1. 1. 1.]\n [0. 0. 0.]\n [1. 0. 0.]\n ...\n [1. 1. 0.]\n [0. 1. 0.]\n [0. 0. 0.]]\n"
     ]
    }
   ],
   "source": [
    "# Print rounded preds\n",
    "print('Rounded Predictions: \\n', preds_rounded)"
   ]
  },
  {
   "cell_type": "code",
   "execution_count": 11,
   "metadata": {},
   "outputs": [
    {
     "output_type": "stream",
     "name": "stdout",
     "text": [
      "19/19 [==============================] - 0s 5ms/step - loss: 0.2958 - accuracy: 0.5817\n"
     ]
    }
   ],
   "source": [
    "# Evaluate your model's accuracy on the test data\n",
    "accuracy = model.evaluate(sensors_test, parcels_test)[1]"
   ]
  }
 ]
}